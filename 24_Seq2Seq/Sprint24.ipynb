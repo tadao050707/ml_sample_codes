{
 "cells": [
  {
   "cell_type": "markdown",
   "metadata": {},
   "source": [
    "# 問題1　機械翻訳の実行とコードリーディング\n",
    "\n",
    "下記圧縮ファイルをダウンロードし、回答して、このsprint24.ipynbと同じ階層においてください。\n",
    "\n",
    "http://www.manythings.org/anki/fra-eng.zip\n",
    "\n",
    "\n",
    "次に、下記githubにアクセスし、プログラムをコピペしてきます。\n",
    "\n",
    "https://github.com/rstudio/keras/blob/master/vignettes/examples/lstm_seq2seq.py\n",
    "\n",
    "下記は、コピペしてきたプログラムを分かりやすく分解したものになります。\n",
    "\n",
    "【アルゴリズム参考】\n",
    "\n",
    "https://blog.octopt.com/sequence-to-sequence/\n",
    "\n",
    "【プログラム参考】\n",
    "\n",
    "https://omathin.com/seq2seq-study/\n",
    "\n",
    "https://qiita.com/FukuharaYohei/items/27cd247342a0f7006511"
   ]
  },
  {
   "cell_type": "code",
   "execution_count": null,
   "metadata": {},
   "outputs": [],
   "source": [
    "# ライブラリのimport\n",
    "from __future__ import print_function\n",
    "from keras.models import Model\n",
    "from keras.layers import Input, LSTM, Dense\n",
    "import numpy as np"
   ]
  },
  {
   "cell_type": "code",
   "execution_count": null,
   "metadata": {},
   "outputs": [],
   "source": [
    "# 必要な変数の定義\n",
    "## 学習関係\n",
    "batch_size = 64  # バッチサイズ.\n",
    "epochs = 10  # 学習回数\n",
    "latent_dim = 256  # \n",
    "num_samples = 10000  # サンプル数\n",
    "\n",
    "## ファイル関係\n",
    "data_path = 'fra-eng/fra.txt' # データパス\n",
    "\n",
    "## データ関係\n",
    "input_texts = [] # 入力テキスト（説明変数）\n",
    "target_texts = [] # 翻訳テキスト（目的変数）\n",
    "input_characters = set() # 一意な入力文字\n",
    "target_characters = set() # 一意な翻訳文字"
   ]
  },
  {
   "cell_type": "code",
   "execution_count": null,
   "metadata": {},
   "outputs": [],
   "source": [
    "# データの読み込み\n",
    "with open(data_path, 'r', encoding='utf-8') as f:\n",
    "    lines = f.read().split('\\n')\n",
    "\n",
    "# 取得した行でループ\n",
    "for line in lines[: min(num_samples, len(lines) - 1)]:\n",
    "    # タブで区切られている説明変数と目的変数を分離\n",
    "    input_text, target_text, _ = line.split('\\t')\n",
    "    # タブと改行で挟む\n",
    "    target_text = '\\t' + target_text + '\\n'\n",
    "    # 説明変数と目的変数をそれぞれ追加\n",
    "    input_texts.append(input_text)\n",
    "    target_texts.append(target_text)\n",
    "    # 一意な文字それぞれ保存\n",
    "    for char in input_text:\n",
    "        if char not in input_characters:\n",
    "            input_characters.add(char)\n",
    "    for char in target_text:\n",
    "        if char not in target_characters:\n",
    "            target_characters.add(char)"
   ]
  },
  {
   "cell_type": "code",
   "execution_count": null,
   "metadata": {},
   "outputs": [],
   "source": [
    "# 学習推定に必要な変数の定義\n",
    "input_characters = sorted(list(input_characters))\n",
    "target_characters = sorted(list(target_characters))\n",
    "num_encoder_tokens = len(input_characters)\n",
    "num_decoder_tokens = len(target_characters)\n",
    "max_encoder_seq_length = max([len(txt) for txt in input_texts])\n",
    "max_decoder_seq_length = max([len(txt) for txt in target_texts])\n",
    "\n",
    "print('Number of samples:', len(input_texts))\n",
    "print('Number of unique input tokens:', num_encoder_tokens)\n",
    "print('Number of unique output tokens:', num_decoder_tokens)\n",
    "print('Max sequence length for inputs:', max_encoder_seq_length)\n",
    "print('Max sequence length for outputs:', max_decoder_seq_length)"
   ]
  },
  {
   "cell_type": "code",
   "execution_count": null,
   "metadata": {},
   "outputs": [],
   "source": [
    "# 一意な文字の辞書化\n",
    "input_token_index = dict(\n",
    "    [(char, i) for i, char in enumerate(input_characters)])\n",
    "target_token_index = dict(\n",
    "    [(char, i) for i, char in enumerate(target_characters)])\n",
    "\n",
    "# 入力サンプル数　×　最大文字数　×　一意な文字数（エンコーダ：特徴抽出）\n",
    "encoder_input_data = np.zeros(\n",
    "    (len(input_texts), max_encoder_seq_length, num_encoder_tokens),\n",
    "    dtype='float32')\n",
    "# 入力サンプル数　×　最大文字数　×　一意な文字数（デコーダ：翻訳）\n",
    "decoder_input_data = np.zeros(\n",
    "    (len(input_texts), max_decoder_seq_length, num_decoder_tokens),\n",
    "    dtype='float32')\n",
    "# 入力サンプル数　×　最大文字数　×　一意な文字数（デコーダ：翻訳）\n",
    "decoder_target_data = np.zeros(\n",
    "    (len(input_texts), max_decoder_seq_length, num_decoder_tokens),\n",
    "    dtype='float32')"
   ]
  },
  {
   "cell_type": "code",
   "execution_count": null,
   "metadata": {},
   "outputs": [],
   "source": [
    "# 初期化していたencoder_input_data/decoder_input_data/decoder_target_dataの該当箇所に1を代入（one-hot）\n",
    "for i, (input_text, target_text) in enumerate(zip(input_texts, target_texts)):\n",
    "    for t, char in enumerate(input_text):\n",
    "        encoder_input_data[i, t, input_token_index[char]] = 1.\n",
    "    encoder_input_data[i, t + 1:, input_token_index[' ']] = 1.\n",
    "    for t, char in enumerate(target_text):\n",
    "        decoder_input_data[i, t, target_token_index[char]] = 1.\n",
    "        if t > 0:\n",
    "            decoder_target_data[i, t - 1, target_token_index[char]] = 1.\n",
    "    decoder_input_data[i, t + 1:, target_token_index[' ']] = 1.\n",
    "    decoder_target_data[i, t:, target_token_index[' ']] = 1."
   ]
  },
  {
   "cell_type": "code",
   "execution_count": null,
   "metadata": {},
   "outputs": [],
   "source": [
    "# 入力データ数は未定・入力特徴量数はnum_encoder_tokens（一意な文字数）\n",
    "encoder_inputs = Input(shape=(None, num_encoder_tokens))\n",
    "# LSTM（エンコーダ）\n",
    "encoder = LSTM(latent_dim, return_state=True)\n",
    "# 中間状態取得\n",
    "encoder_outputs, state_h, state_c = encoder(encoder_inputs)\n",
    "encoder_states = [state_h, state_c]"
   ]
  },
  {
   "cell_type": "code",
   "execution_count": null,
   "metadata": {},
   "outputs": [],
   "source": [
    "# 入力データ数は未定・入力特徴量数はnum_decoder_tokens（一意な文字数）\n",
    "decoder_inputs = Input(shape=(None, num_decoder_tokens))\n",
    "# LSTM（デコーダ）\n",
    "decoder_lstm = LSTM(latent_dim, return_sequences=True, return_state=True)\n",
    "decoder_outputs, _, _ = decoder_lstm(decoder_inputs,initial_state=encoder_states)\n",
    "# 通常層に入れる\n",
    "decoder_dense = Dense(num_decoder_tokens, activation='softmax')\n",
    "decoder_outputs = decoder_dense(decoder_outputs)"
   ]
  },
  {
   "cell_type": "code",
   "execution_count": null,
   "metadata": {},
   "outputs": [],
   "source": [
    "# モデル結合\n",
    "model = Model([encoder_inputs, decoder_inputs], decoder_outputs)\n",
    "\n",
    "# コンパイル\n",
    "model.compile(optimizer='rmsprop', loss='categorical_crossentropy',metrics=['accuracy'])"
   ]
  },
  {
   "cell_type": "code",
   "execution_count": null,
   "metadata": {},
   "outputs": [],
   "source": [
    "# 学習と保存\n",
    "model.fit(\n",
    "    [encoder_input_data, decoder_input_data],\n",
    "    decoder_target_data,\n",
    "    batch_size=batch_size,\n",
    "    epochs=epochs,\n",
    "    validation_split=0.2\n",
    ")\n",
    "\n",
    "model.save('s2s.h5')"
   ]
  },
  {
   "cell_type": "code",
   "execution_count": null,
   "metadata": {},
   "outputs": [],
   "source": [
    "# エンコーダ\n",
    "encoder_model = Model(encoder_inputs, encoder_states)\n",
    "\n",
    "# デコーダ\n",
    "decoder_state_input_h = Input(shape=(latent_dim,))\n",
    "decoder_state_input_c = Input(shape=(latent_dim,))\n",
    "decoder_states_inputs = [decoder_state_input_h, decoder_state_input_c]\n",
    "decoder_outputs, state_h, state_c = decoder_lstm(\n",
    "    decoder_inputs, \n",
    "    initial_state=decoder_states_inputs\n",
    ")\n",
    "\n",
    "decoder_states = [state_h, state_c]\n",
    "decoder_outputs = decoder_dense(decoder_outputs)\n",
    "decoder_model = Model(\n",
    "    [decoder_inputs] + decoder_states_inputs,\n",
    "    [decoder_outputs] + decoder_states\n",
    ")"
   ]
  },
  {
   "cell_type": "code",
   "execution_count": null,
   "metadata": {},
   "outputs": [],
   "source": [
    "# 予測から文字列に起こすための辞書\n",
    "reverse_input_char_index = dict(\n",
    "    (i, char) for char, i in input_token_index.items())\n",
    "reverse_target_char_index = dict(\n",
    "    (i, char) for char, i in target_token_index.items())"
   ]
  },
  {
   "cell_type": "code",
   "execution_count": null,
   "metadata": {},
   "outputs": [],
   "source": [
    "def decode_sequence(input_seq):\n",
    "    # 入力ベクトルをエンコーダへ\n",
    "    states_value = encoder_model.predict(input_seq)\n",
    "\n",
    "    # 0で初期化\n",
    "    target_seq = np.zeros((1, 1, num_decoder_tokens))\n",
    "    # 先頭にタブ\n",
    "    target_seq[0, 0, target_token_index['\\t']] = 1.\n",
    "\n",
    "    # 条件を満たすまでループ\n",
    "    stop_condition = False\n",
    "    # 最終的な文章\n",
    "    decoded_sentence = ''\n",
    "    while not stop_condition:\n",
    "        # 予測\n",
    "        output_tokens, h, c = decoder_model.predict(\n",
    "            [target_seq] + states_value)\n",
    "\n",
    "        # 予測値を確定させ、数値から文字列に復元させる\n",
    "        sampled_token_index = np.argmax(output_tokens[0, -1, :])\n",
    "        sampled_char = reverse_target_char_index[sampled_token_index]\n",
    "        decoded_sentence += sampled_char\n",
    "\n",
    "        # 最大文字数に達するか改行文字\n",
    "        if (sampled_char == '\\n' or\n",
    "           len(decoded_sentence) > max_decoder_seq_length):\n",
    "            stop_condition = True\n",
    "\n",
    "        # デコーダへの入力をupdate\n",
    "        target_seq = np.zeros((1, 1, num_decoder_tokens))\n",
    "        target_seq[0, 0, sampled_token_index] = 1.\n",
    "        states_value = [h, c]\n",
    "\n",
    "    return decoded_sentence"
   ]
  },
  {
   "cell_type": "code",
   "execution_count": null,
   "metadata": {},
   "outputs": [],
   "source": [
    "# 100文章分ループ\n",
    "for seq_index in range(100):\n",
    "    input_seq = encoder_input_data[seq_index: seq_index + 1]\n",
    "    decoded_sentence = decode_sequence(input_seq)\n",
    "    print('-')\n",
    "    print('Input sentence:', input_texts[seq_index])\n",
    "    print('Decoded sentence:', decoded_sentence)"
   ]
  },
  {
   "cell_type": "markdown",
   "metadata": {},
   "source": [
    "# 問題2　イメージキャプショニングの学習済みモデルの実行"
   ]
  },
  {
   "cell_type": "code",
   "execution_count": null,
   "metadata": {},
   "outputs": [],
   "source": [
    "# レポジトリからチュートリアルプログラム取得\n",
    "!git clone https://github.com/yunjey/pytorch-tutorial.git"
   ]
  },
  {
   "cell_type": "code",
   "execution_count": null,
   "metadata": {},
   "outputs": [],
   "source": [
    "# 実行したいpyファイルのある場所に移動\n",
    "%cd pytorch-tutorial/tutorials/03-advanced/image_captioning/"
   ]
  },
  {
   "cell_type": "code",
   "execution_count": null,
   "metadata": {},
   "outputs": [],
   "source": [
    "# 必要モジュールのインストール\n",
    "!pip install -r requirements.txt\n",
    "!pip install torchvision \n",
    "!pip install pycocotools"
   ]
  },
  {
   "cell_type": "code",
   "execution_count": null,
   "metadata": {},
   "outputs": [],
   "source": [
    "# ライブラリimport\n",
    "import torch\n",
    "import torchvision\n",
    "%matplotlib inline"
   ]
  },
  {
   "cell_type": "code",
   "execution_count": null,
   "metadata": {},
   "outputs": [],
   "source": [
    "# 試しに出力\n",
    "from IPython.display import Image,display_png\n",
    "display_png(Image('png/example.png'))"
   ]
  },
  {
   "cell_type": "markdown",
   "metadata": {},
   "source": [
    "サンプルプログラム実行のためには、下記のURLの記載に従って、学習済みモデルをダウンロードしてくる必要がある\n",
    "\n",
    "https://github.com/yunjey/pytorch-tutorial/tree/master/tutorials/03-advanced/image_captioning#pretrained-model\n",
    "\n",
    "そしてそれぞれのファイルを、下記のようにディレクトリに配置する。\n",
    "\n",
    "pytorch-tutorial/tutorials/03-advanced/image_captioning/data/vocab.pkl\n",
    "\n",
    "pytorch-tutorial/tutorials/03-advanced/image_captioning/models/decoder-5-3000.pkl\n",
    "\n",
    "pytorch-tutorial/tutorials/03-advanced/image_captioning/models/encoder-5-3000.pkl"
   ]
  },
  {
   "cell_type": "code",
   "execution_count": null,
   "metadata": {
    "scrolled": true
   },
   "outputs": [],
   "source": [
    "# サンプルプログラム実行\n",
    "!python sample.py --image=\"png/example.png\""
   ]
  },
  {
   "cell_type": "markdown",
   "metadata": {},
   "source": [
    "# 問題3　Kerasで動かしたい場合はどうするかを調査"
   ]
  },
  {
   "cell_type": "markdown",
   "metadata": {},
   "source": [
    "下記のようなOSSのツールを利用する\n",
    "\n",
    "https://github.com/gmalivenko/pytorch2keras\n",
    "\n",
    "https://github.com/Microsoft/MMdnn"
   ]
  }
 ],
 "metadata": {
  "kernelspec": {
   "display_name": "Python 3",
   "language": "python",
   "name": "python3"
  },
  "language_info": {
   "codemirror_mode": {
    "name": "ipython",
    "version": 3
   },
   "file_extension": ".py",
   "mimetype": "text/x-python",
   "name": "python",
   "nbconvert_exporter": "python",
   "pygments_lexer": "ipython3",
   "version": "3.6.2"
  }
 },
 "nbformat": 4,
 "nbformat_minor": 4
}
