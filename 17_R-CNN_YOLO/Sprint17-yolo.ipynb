{
 "cells": [
  {
   "cell_type": "markdown",
   "metadata": {},
   "source": [
    "# Sprint17 Faster R-CNNとyolo-V3"
   ]
  },
  {
   "cell_type": "markdown",
   "metadata": {},
   "source": [
    "# yolo-V3\n",
    "\n",
    "## プログラム準備\n",
    "https://github.com/qqwweee/keras-yolo3\n",
    "\n",
    "上記で取得してきたフォルダの中に、このSprint17-yolo.ipynbを配置します。\n",
    "\n",
    "## データ準備\n",
    "faster r cnn で取得してきたデータをこのSprint17-yolo.ipynbと同階層に設置します。\n",
    "\n",
    "## 学習済みモデルの取得\n",
    "\n",
    "下記にアクセスし、学習済みモデルを取得してきます。\n",
    "\n",
    "https://pjreddie.com/media/files/yolov3.weights\n",
    "\n",
    "## データ確認\n",
    "\n",
    "このSprint17-yolo.ipynbがあるフォルダ内は下記のようになっていると思います。\n",
    "\n",
    "- 上記リポジトリのファイルやディレクトリ群（ファイルやディレクトリ）\n",
    "- kaggle_simpson_testset /（ディレクトリ）\n",
    "- simpsons_dataset /（ディレクトリ）\n",
    "- Sprint17-rcnn.ipynb（ファイル）\n",
    "- yolov3.weights"
   ]
  },
  {
   "cell_type": "markdown",
   "metadata": {},
   "source": [
    "## モデル形式の変更"
   ]
  },
  {
   "cell_type": "code",
   "execution_count": null,
   "metadata": {
    "colab": {
     "base_uri": "https://localhost:8080/"
    },
    "id": "axafyH3DscG_",
    "outputId": "a73300e4-08d3-4626-ace0-dfb8914f87e3"
   },
   "outputs": [],
   "source": [
    "!python convert.py yolov3.cfg yolov3.weights model_data/yolo_weights.h5"
   ]
  },
  {
   "cell_type": "markdown",
   "metadata": {},
   "source": [
    "# 問題3　学習済みの重みによる推定"
   ]
  },
  {
   "cell_type": "code",
   "execution_count": null,
   "metadata": {},
   "outputs": [],
   "source": [
    "!python yolo_video.py --image"
   ]
  },
  {
   "cell_type": "markdown",
   "metadata": {
    "id": "tIIc1r4K1__4"
   },
   "source": [
    "# 問題4　学習のためのファイルを作成\n",
    "\n",
    "annotation.txtのファイル形式がfaster-rcnnの形式と違うため、変更したものを作成する\n",
    "\n",
    "rcnnの際に使ったannotation.txtをこのフォルダにコピーし、annotation_rcnn.txtとrenameしてください。"
   ]
  },
  {
   "cell_type": "code",
   "execution_count": 4,
   "metadata": {},
   "outputs": [],
   "source": [
    "# ライブラリのimport\n",
    "import pandas as pd\n",
    "from sklearn.preprocessing import LabelEncoder"
   ]
  },
  {
   "cell_type": "code",
   "execution_count": 5,
   "metadata": {
    "colab": {
     "base_uri": "https://localhost:8080/",
     "height": 219
    },
    "id": "OyqfI9Sv2Dn4",
    "outputId": "e52349ec-fe79-42e5-b1d3-227cef2bea02"
   },
   "outputs": [
    {
     "data": {
      "text/html": [
       "<div>\n",
       "<style scoped>\n",
       "    .dataframe tbody tr th:only-of-type {\n",
       "        vertical-align: middle;\n",
       "    }\n",
       "\n",
       "    .dataframe tbody tr th {\n",
       "        vertical-align: top;\n",
       "    }\n",
       "\n",
       "    .dataframe thead th {\n",
       "        text-align: right;\n",
       "    }\n",
       "</style>\n",
       "<table border=\"1\" class=\"dataframe\">\n",
       "  <thead>\n",
       "    <tr style=\"text-align: right;\">\n",
       "      <th></th>\n",
       "      <th>0</th>\n",
       "      <th>1</th>\n",
       "      <th>2</th>\n",
       "      <th>3</th>\n",
       "      <th>4</th>\n",
       "      <th>5</th>\n",
       "    </tr>\n",
       "  </thead>\n",
       "  <tbody>\n",
       "    <tr>\n",
       "      <th>0</th>\n",
       "      <td>simpsons_dataset/abraham_grampa_simpson/pic_00...</td>\n",
       "      <td>57</td>\n",
       "      <td>72</td>\n",
       "      <td>52</td>\n",
       "      <td>72</td>\n",
       "      <td>abraham_grampa_simpson</td>\n",
       "    </tr>\n",
       "    <tr>\n",
       "      <th>1</th>\n",
       "      <td>simpsons_dataset/abraham_grampa_simpson/pic_00...</td>\n",
       "      <td>80</td>\n",
       "      <td>31</td>\n",
       "      <td>337</td>\n",
       "      <td>354</td>\n",
       "      <td>abraham_grampa_simpson</td>\n",
       "    </tr>\n",
       "    <tr>\n",
       "      <th>2</th>\n",
       "      <td>simpsons_dataset/abraham_grampa_simpson/pic_00...</td>\n",
       "      <td>128</td>\n",
       "      <td>48</td>\n",
       "      <td>285</td>\n",
       "      <td>407</td>\n",
       "      <td>abraham_grampa_simpson</td>\n",
       "    </tr>\n",
       "    <tr>\n",
       "      <th>3</th>\n",
       "      <td>simpsons_dataset/abraham_grampa_simpson/pic_00...</td>\n",
       "      <td>72</td>\n",
       "      <td>126</td>\n",
       "      <td>158</td>\n",
       "      <td>275</td>\n",
       "      <td>abraham_grampa_simpson</td>\n",
       "    </tr>\n",
       "    <tr>\n",
       "      <th>4</th>\n",
       "      <td>simpsons_dataset/abraham_grampa_simpson/pic_00...</td>\n",
       "      <td>123</td>\n",
       "      <td>61</td>\n",
       "      <td>294</td>\n",
       "      <td>416</td>\n",
       "      <td>abraham_grampa_simpson</td>\n",
       "    </tr>\n",
       "  </tbody>\n",
       "</table>\n",
       "</div>"
      ],
      "text/plain": [
       "                                                   0    1    2    3    4  \\\n",
       "0  simpsons_dataset/abraham_grampa_simpson/pic_00...   57   72   52   72   \n",
       "1  simpsons_dataset/abraham_grampa_simpson/pic_00...   80   31  337  354   \n",
       "2  simpsons_dataset/abraham_grampa_simpson/pic_00...  128   48  285  407   \n",
       "3  simpsons_dataset/abraham_grampa_simpson/pic_00...   72  126  158  275   \n",
       "4  simpsons_dataset/abraham_grampa_simpson/pic_00...  123   61  294  416   \n",
       "\n",
       "                        5  \n",
       "0  abraham_grampa_simpson  \n",
       "1  abraham_grampa_simpson  \n",
       "2  abraham_grampa_simpson  \n",
       "3  abraham_grampa_simpson  \n",
       "4  abraham_grampa_simpson  "
      ]
     },
     "execution_count": 5,
     "metadata": {},
     "output_type": "execute_result"
    }
   ],
   "source": [
    "# 読み込みと確認\n",
    "annotation_df = pd.read_csv('annotation_rcnn.txt',header=None)\n",
    "n_sample, n_col = annotation_df.shape\n",
    "annotation_df.head()"
   ]
  },
  {
   "cell_type": "code",
   "execution_count": 8,
   "metadata": {
    "colab": {
     "base_uri": "https://localhost:8080/",
     "height": 202
    },
    "id": "SKP4AnkT3IGZ",
    "outputId": "25807b60-14d3-4836-fccc-46dc5d985cda"
   },
   "outputs": [
    {
     "data": {
      "text/html": [
       "<div>\n",
       "<style scoped>\n",
       "    .dataframe tbody tr th:only-of-type {\n",
       "        vertical-align: middle;\n",
       "    }\n",
       "\n",
       "    .dataframe tbody tr th {\n",
       "        vertical-align: top;\n",
       "    }\n",
       "\n",
       "    .dataframe thead th {\n",
       "        text-align: right;\n",
       "    }\n",
       "</style>\n",
       "<table border=\"1\" class=\"dataframe\">\n",
       "  <thead>\n",
       "    <tr style=\"text-align: right;\">\n",
       "      <th></th>\n",
       "      <th>0</th>\n",
       "      <th>1</th>\n",
       "      <th>2</th>\n",
       "      <th>3</th>\n",
       "      <th>4</th>\n",
       "      <th>5</th>\n",
       "    </tr>\n",
       "  </thead>\n",
       "  <tbody>\n",
       "    <tr>\n",
       "      <th>0</th>\n",
       "      <td>simpsons_dataset/abraham_grampa_simpson/pic_00...</td>\n",
       "      <td>57</td>\n",
       "      <td>72</td>\n",
       "      <td>52</td>\n",
       "      <td>72</td>\n",
       "      <td>0</td>\n",
       "    </tr>\n",
       "    <tr>\n",
       "      <th>1</th>\n",
       "      <td>simpsons_dataset/abraham_grampa_simpson/pic_00...</td>\n",
       "      <td>80</td>\n",
       "      <td>31</td>\n",
       "      <td>337</td>\n",
       "      <td>354</td>\n",
       "      <td>0</td>\n",
       "    </tr>\n",
       "    <tr>\n",
       "      <th>2</th>\n",
       "      <td>simpsons_dataset/abraham_grampa_simpson/pic_00...</td>\n",
       "      <td>128</td>\n",
       "      <td>48</td>\n",
       "      <td>285</td>\n",
       "      <td>407</td>\n",
       "      <td>0</td>\n",
       "    </tr>\n",
       "    <tr>\n",
       "      <th>3</th>\n",
       "      <td>simpsons_dataset/abraham_grampa_simpson/pic_00...</td>\n",
       "      <td>72</td>\n",
       "      <td>126</td>\n",
       "      <td>158</td>\n",
       "      <td>275</td>\n",
       "      <td>0</td>\n",
       "    </tr>\n",
       "    <tr>\n",
       "      <th>4</th>\n",
       "      <td>simpsons_dataset/abraham_grampa_simpson/pic_00...</td>\n",
       "      <td>123</td>\n",
       "      <td>61</td>\n",
       "      <td>294</td>\n",
       "      <td>416</td>\n",
       "      <td>0</td>\n",
       "    </tr>\n",
       "  </tbody>\n",
       "</table>\n",
       "</div>"
      ],
      "text/plain": [
       "                                                   0    1    2    3    4  5\n",
       "0  simpsons_dataset/abraham_grampa_simpson/pic_00...   57   72   52   72  0\n",
       "1  simpsons_dataset/abraham_grampa_simpson/pic_00...   80   31  337  354  0\n",
       "2  simpsons_dataset/abraham_grampa_simpson/pic_00...  128   48  285  407  0\n",
       "3  simpsons_dataset/abraham_grampa_simpson/pic_00...   72  126  158  275  0\n",
       "4  simpsons_dataset/abraham_grampa_simpson/pic_00...  123   61  294  416  0"
      ]
     },
     "execution_count": 8,
     "metadata": {},
     "output_type": "execute_result"
    }
   ],
   "source": [
    "# キャラクター名を数値（クラス・ラベル）に変更する\n",
    "le = LabelEncoder()\n",
    "annotation_df.iloc[:,5] = le.fit_transform(annotation_df.iloc[:,5])\n",
    "annotation_df.head()"
   ]
  },
  {
   "cell_type": "code",
   "execution_count": 11,
   "metadata": {
    "id": "4xnvqmbH3OAc"
   },
   "outputs": [],
   "source": [
    "rcnn_path = 'annotation_rcnn.txt'\n",
    "yolo_path = 'annotation.txt'\n",
    "\n",
    "# rcnnの方のannotation.txtを開く\n",
    "with open(rcnn_path) as f:\n",
    "    # データを読み込む\n",
    "    lines = f.readline() \n",
    "    # データ数（行数）でループ\n",
    "    for i in range(n_sample):\n",
    "        # カンマ区切りのデータをリストに変換\n",
    "        split_line = lines.split(',') \n",
    "        # 画像のパスは一番前に格納されているので取得\n",
    "        image_path = split_line[0]\n",
    "        # パス変更\n",
    "        split_line[0] = './' + image_path\n",
    "        # 末尾をキャラクター名から数値（クラス・ラベル）に変更→改行コード加える\n",
    "        split_line[-1] = str(annotation_df.iloc[i,5]) + '\\n'  \n",
    "        # yoloの方のannotation.txtを開き保存\n",
    "        with open(yolo_path, mode='a') as out_f:\n",
    "            join_line = ','.join(split_line)  \n",
    "            join_line = join_line.replace('.jpg,','.jpg ')  \n",
    "            out_f.write(join_line)"
   ]
  },
  {
   "cell_type": "markdown",
   "metadata": {
    "id": "SwwI1IE80RZQ"
   },
   "source": [
    "# 問題5　学習が行えることの確認\n",
    "\n",
    "\n",
    "問題4で作成したファイルを使用して学習してください。実行環境で学習に時間がかかる場合は、学習が行えることを確認するのみで終えて構いません。\n",
    "\n",
    "\n",
    "このサンプルコードのやり方でいくと、train.py 17行目 `annotation_path = 'train.txt'`を`annotation_path = 'annotation.txt'`に変えてやる必要があります。"
   ]
  },
  {
   "cell_type": "code",
   "execution_count": null,
   "metadata": {
    "colab": {
     "base_uri": "https://localhost:8080/"
    },
    "id": "NhWxyzVj0cZI",
    "outputId": "2bbdeaad-5c46-4300-bbf7-f5a1ce392765"
   },
   "outputs": [],
   "source": [
    "!python train.py"
   ]
  }
 ],
 "metadata": {
  "colab": {
   "authorship_tag": "ABX9TyPLm30WcpzEnTTz2ltBy/oU",
   "include_colab_link": true,
   "name": "Untitled5.ipynb",
   "provenance": []
  },
  "kernelspec": {
   "display_name": "Python 3",
   "language": "python",
   "name": "python3"
  },
  "language_info": {
   "codemirror_mode": {
    "name": "ipython",
    "version": 3
   },
   "file_extension": ".py",
   "mimetype": "text/x-python",
   "name": "python",
   "nbconvert_exporter": "python",
   "pygments_lexer": "ipython3",
   "version": "3.6.2"
  }
 },
 "nbformat": 4,
 "nbformat_minor": 1
}
